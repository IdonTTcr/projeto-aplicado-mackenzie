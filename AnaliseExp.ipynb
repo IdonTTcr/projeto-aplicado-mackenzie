{
 "cells": [
  {
   "cell_type": "code",
   "execution_count": 16,
   "metadata": {},
   "outputs": [],
   "source": [
    "import numpy as np\n",
    "import pandas as pd\n",
    "import matplotlib.pylab as plt\n",
    "import seaborn as sns#Understanding my variables"
   ]
  },
  {
   "cell_type": "code",
   "execution_count": 20,
   "metadata": {},
   "outputs": [],
   "source": [
    "df = pd.read_csv(r'C:\\Users\\tamir\\OneDrive\\Área de Trabalho\\desenvolvimento\\mackenzier\\australian_data_analyst_jobs.csv\\australian_data_analyst_jobs.csv',sep=',')"
   ]
  },
  {
   "cell_type": "code",
   "execution_count": 21,
   "metadata": {},
   "outputs": [
    {
     "name": "stdout",
     "output_type": "stream",
     "text": [
      "(500, 8)\n"
     ]
    }
   ],
   "source": [
    "#Entenda o dado\n",
    "print(df.shape)\n"
   ]
  },
  {
   "cell_type": "code",
   "execution_count": 22,
   "metadata": {},
   "outputs": [
    {
     "data": {
      "text/html": [
       "<div>\n",
       "<style scoped>\n",
       "    .dataframe tbody tr th:only-of-type {\n",
       "        vertical-align: middle;\n",
       "    }\n",
       "\n",
       "    .dataframe tbody tr th {\n",
       "        vertical-align: top;\n",
       "    }\n",
       "\n",
       "    .dataframe thead th {\n",
       "        text-align: right;\n",
       "    }\n",
       "</style>\n",
       "<table border=\"1\" class=\"dataframe\">\n",
       "  <thead>\n",
       "    <tr style=\"text-align: right;\">\n",
       "      <th></th>\n",
       "      <th>company_name</th>\n",
       "      <th>job_title</th>\n",
       "      <th>job_description</th>\n",
       "      <th>job_location/city</th>\n",
       "      <th>job_location/country</th>\n",
       "      <th>job_salary/estimated</th>\n",
       "      <th>job_salary/pay_period</th>\n",
       "      <th>job_posted_date</th>\n",
       "    </tr>\n",
       "  </thead>\n",
       "  <tbody>\n",
       "    <tr>\n",
       "      <th>0</th>\n",
       "      <td>Wesley Mission Queensland</td>\n",
       "      <td>Data And Insights Analyst</td>\n",
       "      <td>Reference Number 15304\\nPosition Title Data an...</td>\n",
       "      <td>Australia</td>\n",
       "      <td>australia</td>\n",
       "      <td>False</td>\n",
       "      <td>hourly</td>\n",
       "      <td>2024-01-28T00:00:00</td>\n",
       "    </tr>\n",
       "    <tr>\n",
       "      <th>1</th>\n",
       "      <td>Ford Motor Company</td>\n",
       "      <td>Marketing Communications Analyst</td>\n",
       "      <td>About Us\\n\\nFord is a family company, one that...</td>\n",
       "      <td>Richmond</td>\n",
       "      <td>australia</td>\n",
       "      <td>True</td>\n",
       "      <td>hourly</td>\n",
       "      <td>2024-02-14T00:00:00</td>\n",
       "    </tr>\n",
       "    <tr>\n",
       "      <th>2</th>\n",
       "      <td>Catholic Education Diocese Of Parramatta</td>\n",
       "      <td>Data Analyst</td>\n",
       "      <td>THANK YOU FOR YOUR INTEREST IN APPLYING FOR A ...</td>\n",
       "      <td>Parramatta</td>\n",
       "      <td>australia</td>\n",
       "      <td>True</td>\n",
       "      <td>hourly</td>\n",
       "      <td>2024-01-23T00:00:00</td>\n",
       "    </tr>\n",
       "    <tr>\n",
       "      <th>3</th>\n",
       "      <td>Northern Health</td>\n",
       "      <td>Data Analyst</td>\n",
       "      <td>About Northern Health:\\n\\n\\n\\n\\nAs an organisa...</td>\n",
       "      <td>Australia</td>\n",
       "      <td>australia</td>\n",
       "      <td>False</td>\n",
       "      <td>hourly</td>\n",
       "      <td>2024-02-06T00:00:00</td>\n",
       "    </tr>\n",
       "    <tr>\n",
       "      <th>4</th>\n",
       "      <td>The Smith Family (Australia)</td>\n",
       "      <td>Policy Analyst</td>\n",
       "      <td>* Become part of our family and make a differe...</td>\n",
       "      <td>Australia</td>\n",
       "      <td>australia</td>\n",
       "      <td>False</td>\n",
       "      <td>hourly</td>\n",
       "      <td>2024-02-15T00:00:00</td>\n",
       "    </tr>\n",
       "  </tbody>\n",
       "</table>\n",
       "</div>"
      ],
      "text/plain": [
       "                               company_name                         job_title  \\\n",
       "0                 Wesley Mission Queensland         Data And Insights Analyst   \n",
       "1                        Ford Motor Company  Marketing Communications Analyst   \n",
       "2  Catholic Education Diocese Of Parramatta                      Data Analyst   \n",
       "3                           Northern Health                      Data Analyst   \n",
       "4              The Smith Family (Australia)                    Policy Analyst   \n",
       "\n",
       "                                     job_description job_location/city  \\\n",
       "0  Reference Number 15304\\nPosition Title Data an...         Australia   \n",
       "1  About Us\\n\\nFord is a family company, one that...          Richmond   \n",
       "2  THANK YOU FOR YOUR INTEREST IN APPLYING FOR A ...        Parramatta   \n",
       "3  About Northern Health:\\n\\n\\n\\n\\nAs an organisa...         Australia   \n",
       "4  * Become part of our family and make a differe...         Australia   \n",
       "\n",
       "  job_location/country  job_salary/estimated job_salary/pay_period  \\\n",
       "0            australia                 False                hourly   \n",
       "1            australia                  True                hourly   \n",
       "2            australia                  True                hourly   \n",
       "3            australia                 False                hourly   \n",
       "4            australia                 False                hourly   \n",
       "\n",
       "       job_posted_date  \n",
       "0  2024-01-28T00:00:00  \n",
       "1  2024-02-14T00:00:00  \n",
       "2  2024-01-23T00:00:00  \n",
       "3  2024-02-06T00:00:00  \n",
       "4  2024-02-15T00:00:00  "
      ]
     },
     "execution_count": 22,
     "metadata": {},
     "output_type": "execute_result"
    }
   ],
   "source": [
    "df.head()\n"
   ]
  },
  {
   "cell_type": "code",
   "execution_count": 23,
   "metadata": {},
   "outputs": [
    {
     "name": "stdout",
     "output_type": "stream",
     "text": [
      "Index(['company_name', 'job_title', 'job_description', 'job_location/city',\n",
      "       'job_location/country', 'job_salary/estimated', 'job_salary/pay_period',\n",
      "       'job_posted_date'],\n",
      "      dtype='object')\n"
     ]
    }
   ],
   "source": [
    "print(df.columns)\n"
   ]
  },
  {
   "cell_type": "code",
   "execution_count": 26,
   "metadata": {},
   "outputs": [
    {
     "data": {
      "text/html": [
       "<div>\n",
       "<style scoped>\n",
       "    .dataframe tbody tr th:only-of-type {\n",
       "        vertical-align: middle;\n",
       "    }\n",
       "\n",
       "    .dataframe tbody tr th {\n",
       "        vertical-align: top;\n",
       "    }\n",
       "\n",
       "    .dataframe thead th {\n",
       "        text-align: right;\n",
       "    }\n",
       "</style>\n",
       "<table border=\"1\" class=\"dataframe\">\n",
       "  <thead>\n",
       "    <tr style=\"text-align: right;\">\n",
       "      <th></th>\n",
       "      <th>company_name</th>\n",
       "      <th>job_title</th>\n",
       "      <th>job_description</th>\n",
       "      <th>job_location/city</th>\n",
       "      <th>job_location/country</th>\n",
       "      <th>job_salary/estimated</th>\n",
       "      <th>job_salary/pay_period</th>\n",
       "      <th>job_posted_date</th>\n",
       "    </tr>\n",
       "  </thead>\n",
       "  <tbody>\n",
       "    <tr>\n",
       "      <th>count</th>\n",
       "      <td>474</td>\n",
       "      <td>500</td>\n",
       "      <td>500</td>\n",
       "      <td>500</td>\n",
       "      <td>500</td>\n",
       "      <td>500</td>\n",
       "      <td>500</td>\n",
       "      <td>500</td>\n",
       "    </tr>\n",
       "    <tr>\n",
       "      <th>unique</th>\n",
       "      <td>286</td>\n",
       "      <td>279</td>\n",
       "      <td>431</td>\n",
       "      <td>70</td>\n",
       "      <td>1</td>\n",
       "      <td>2</td>\n",
       "      <td>1</td>\n",
       "      <td>31</td>\n",
       "    </tr>\n",
       "    <tr>\n",
       "      <th>top</th>\n",
       "      <td>Commonwealth Bank Of Australia</td>\n",
       "      <td>Data Analyst</td>\n",
       "      <td>We are inviting selected students (BA, MS) in ...</td>\n",
       "      <td>Sydney</td>\n",
       "      <td>australia</td>\n",
       "      <td>True</td>\n",
       "      <td>hourly</td>\n",
       "      <td>2024-02-15T00:00:00</td>\n",
       "    </tr>\n",
       "    <tr>\n",
       "      <th>freq</th>\n",
       "      <td>20</td>\n",
       "      <td>79</td>\n",
       "      <td>4</td>\n",
       "      <td>164</td>\n",
       "      <td>500</td>\n",
       "      <td>256</td>\n",
       "      <td>500</td>\n",
       "      <td>40</td>\n",
       "    </tr>\n",
       "  </tbody>\n",
       "</table>\n",
       "</div>"
      ],
      "text/plain": [
       "                          company_name     job_title  \\\n",
       "count                              474           500   \n",
       "unique                             286           279   \n",
       "top     Commonwealth Bank Of Australia  Data Analyst   \n",
       "freq                                20            79   \n",
       "\n",
       "                                          job_description job_location/city  \\\n",
       "count                                                 500               500   \n",
       "unique                                                431                70   \n",
       "top     We are inviting selected students (BA, MS) in ...            Sydney   \n",
       "freq                                                    4               164   \n",
       "\n",
       "       job_location/country job_salary/estimated job_salary/pay_period  \\\n",
       "count                   500                  500                   500   \n",
       "unique                    1                    2                     1   \n",
       "top               australia                 True                hourly   \n",
       "freq                    500                  256                   500   \n",
       "\n",
       "            job_posted_date  \n",
       "count                   500  \n",
       "unique                   31  \n",
       "top     2024-02-15T00:00:00  \n",
       "freq                     40  "
      ]
     },
     "execution_count": 26,
     "metadata": {},
     "output_type": "execute_result"
    }
   ],
   "source": [
    "df.describe()\n"
   ]
  },
  {
   "cell_type": "code",
   "execution_count": 25,
   "metadata": {},
   "outputs": [
    {
     "name": "stdout",
     "output_type": "stream",
     "text": [
      "<class 'pandas.core.frame.DataFrame'>\n",
      "RangeIndex: 500 entries, 0 to 499\n",
      "Data columns (total 8 columns):\n",
      " #   Column                 Non-Null Count  Dtype \n",
      "---  ------                 --------------  ----- \n",
      " 0   company_name           474 non-null    object\n",
      " 1   job_title              500 non-null    object\n",
      " 2   job_description        500 non-null    object\n",
      " 3   job_location/city      500 non-null    object\n",
      " 4   job_location/country   500 non-null    object\n",
      " 5   job_salary/estimated   500 non-null    bool  \n",
      " 6   job_salary/pay_period  500 non-null    object\n",
      " 7   job_posted_date        500 non-null    object\n",
      "dtypes: bool(1), object(7)\n",
      "memory usage: 28.0+ KB\n"
     ]
    }
   ],
   "source": [
    "df.info()"
   ]
  }
 ],
 "metadata": {
  "kernelspec": {
   "display_name": "base",
   "language": "python",
   "name": "python3"
  },
  "language_info": {
   "codemirror_mode": {
    "name": "ipython",
    "version": 3
   },
   "file_extension": ".py",
   "mimetype": "text/x-python",
   "name": "python",
   "nbconvert_exporter": "python",
   "pygments_lexer": "ipython3",
   "version": "3.10.9"
  }
 },
 "nbformat": 4,
 "nbformat_minor": 2
}
